{
 "cells": [
  {
   "cell_type": "markdown",
   "metadata": {},
   "source": [
    "## Chapter 3 : Plotly 與 3D gif圖\n",
    "\n",
    "Plotly範例 : 使用盒鬚圖(Boxplot)\n",
    "\n",
    "* 需安裝套件 : `conda install poltly`  \n",
    "\n",
    "`import plotly.graph_objects as go` : plotly 使用此套件  \n",
    "`import plotly.offline as py` : 輸出圖使用此套件 "
   ]
  },
  {
   "cell_type": "code",
   "execution_count": 1,
   "metadata": {},
   "outputs": [
    {
     "name": "stderr",
     "output_type": "stream",
     "text": [
      "C:\\anaconda3\\lib\\site-packages\\plotly\\offline\\offline.py:563: UserWarning:\n",
      "\n",
      "Your filename `Temperature` didn't end with .html. Adding .html to the end of your file.\n",
      "\n"
     ]
    },
    {
     "data": {
      "text/plain": [
       "'Temperature.html'"
      ]
     },
     "execution_count": 1,
     "metadata": {},
     "output_type": "execute_result"
    }
   ],
   "source": [
    "import pandas as pd\n",
    "import numpy as np\n",
    "import matplotlib.pyplot as plt\n",
    "import plotly.graph_objects as go\n",
    "import plotly.offline as py\n",
    "\n",
    "# 讀取event.csv裡的資料\n",
    "data_boxplot = pd.read_csv('event.csv')\n",
    "\n",
    "# 創建互動化的介面\n",
    "fig = go.Figure()\n",
    "\n",
    "# 新增一個盒鬚圖 名字為'1'\n",
    "fig.add_trace(go.Box(y=data_boxplot['temperature'], name='1'))\n",
    "\n",
    "# 設定標題\n",
    "fig.update_layout(title='Temperature')\n",
    "\n",
    "# 檔案名稱\n",
    "file_name = 'Temperature'\n",
    "\n",
    "# 輸出檔案\n",
    "py.plot(fig, filename=file_name)"
   ]
  },
  {
   "cell_type": "code",
   "execution_count": 2,
   "metadata": {},
   "outputs": [
    {
     "name": "stderr",
     "output_type": "stream",
     "text": [
      "C:\\anaconda3\\lib\\site-packages\\plotly\\offline\\offline.py:563: UserWarning:\n",
      "\n",
      "Your filename `Temperature_stage` didn't end with .html. Adding .html to the end of your file.\n",
      "\n"
     ]
    },
    {
     "data": {
      "text/plain": [
       "'Temperature_stage.html'"
      ]
     },
     "execution_count": 2,
     "metadata": {},
     "output_type": "execute_result"
    }
   ],
   "source": [
    "# 讀取event.csv裡的資料\n",
    "data_boxplot = pd.read_csv('event.csv')\n",
    "\n",
    "# 把資料分割成5等分\n",
    "data_len = len(data_boxplot)//5\n",
    "\n",
    "# 創建互動化的介面\n",
    "fig = go.Figure()\n",
    "\n",
    "# 新增五個盒鬚圖 名字為 stage'1' ~ stage'5'\n",
    "for event_ii in range(5):\n",
    "    boxplot_event_name = 'stage' + str(event_ii+1)\n",
    "    fig.add_trace(go.Box(y=data_boxplot['temperature'][data_len*event_ii:data_len*(event_ii+1)], name=boxplot_event_name))\n",
    "    \n",
    "# 設定標題  \n",
    "fig.update_layout(title='Temperature of Five Stage')\n",
    "\n",
    "# 檔案名稱\n",
    "file_name = 'Temperature_stage'\n",
    "\n",
    "# 輸出檔案\n",
    "py.plot(fig, filename=file_name)"
   ]
  },
  {
   "cell_type": "markdown",
   "metadata": {},
   "source": [
    "## Chapter 3 : Plotly 與 3D gif圖\n",
    "\n",
    "3D gif圖\n",
    "\n",
    "`import matplotlib.animation` : 動態使用的套件  "
   ]
  },
  {
   "cell_type": "code",
   "execution_count": 3,
   "metadata": {},
   "outputs": [],
   "source": [
    "import matplotlib.animation\n",
    "\n",
    "# 背景模式恢復預設值\n",
    "plt.rcParams.update(plt.rcParamsDefault)\n",
    "\n",
    "# 建立三維(x, y, z)的數據\n",
    "xs = np.random.rand(300) * 100\n",
    "ys = np.random.rand(300) * 100\n",
    "zs = np.random.rand(300) * 100\n",
    "\n",
    "# 建立畫布\n",
    "fig = plt.figure()\n",
    "\n",
    "# 將axes設定為3維圖\n",
    "ax = fig.gca(projection='3d')\n",
    "\n",
    "# 使用散布圖，c:color以z軸的大小變化\n",
    "kk = ax.scatter(xs, ys, zs, c=zs)\n",
    "\n",
    "# 顯示 colorbar\n",
    "fig.colorbar(kk, ax=ax)\n",
    "\n",
    "# 設計 gif 旋轉的樣態 ; 初始值 : ax.view_init(15,0) 以x軸傾斜15度\n",
    "ax.view_init(15,0) \n",
    "\n",
    "# 動態圖:是多個靜態圖所組成，要定義每個靜態圖以y軸旋轉的角度\n",
    "phi = np.linspace(0, 2*np.pi) \n",
    "def update(phi): \n",
    "    ax.view_init(15, phi*180./np.pi) \n",
    "\n",
    "# 製作動態的資料\n",
    "ani = matplotlib.animation.FuncAnimation(fig, update, frames=phi) \n",
    "\n",
    "# 輸出為 gif圖\n",
    "ani.save('dimension.gif', writer='pillow', fps=10) "
   ]
  }
 ],
 "metadata": {
  "kernelspec": {
   "display_name": "Python 3",
   "language": "python",
   "name": "python3"
  },
  "language_info": {
   "codemirror_mode": {
    "name": "ipython",
    "version": 3
   },
   "file_extension": ".py",
   "mimetype": "text/x-python",
   "name": "python",
   "nbconvert_exporter": "python",
   "pygments_lexer": "ipython3",
   "version": "3.7.4"
  }
 },
 "nbformat": 4,
 "nbformat_minor": 2
}
