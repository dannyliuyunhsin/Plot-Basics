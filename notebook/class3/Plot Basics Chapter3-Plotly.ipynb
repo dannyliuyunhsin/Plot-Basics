{
 "cells": [
  {
   "cell_type": "markdown",
   "metadata": {},
   "source": [
    "## Chapter 3 : Plotly 與 3D gif圖\n",
    "\n",
    "Plotly範例 : 使用盒鬚圖(Boxplot)\n",
    "\n",
    "* 需安裝套件 : `conda install poltly`  \n",
    "\n",
    "`import plotly.graph_objects as go` : plotly 使用此套件  \n",
    "`import plotly.offline as py` : 輸出圖使用此套件 \n",
    "\n",
    "<img src=\"./Boxplot.PNG\" width=600/>"
   ]
  },
  {
   "cell_type": "code",
   "execution_count": 1,
   "metadata": {},
   "outputs": [
    {
     "name": "stderr",
     "output_type": "stream",
     "text": [
      "C:\\anaconda3\\lib\\site-packages\\plotly\\offline\\offline.py:563: UserWarning:\n",
      "\n",
      "Your filename `Temperature` didn't end with .html. Adding .html to the end of your file.\n",
      "\n"
     ]
    },
    {
     "data": {
      "text/plain": [
       "'Temperature.html'"
      ]
     },
     "execution_count": 1,
     "metadata": {},
     "output_type": "execute_result"
    }
   ],
   "source": [
    "import pandas as pd\n",
    "import numpy as np\n",
    "import matplotlib.pyplot as plt\n",
    "import plotly.graph_objects as go\n",
    "import plotly.offline as py\n",
    "\n",
    "# 讀取event.csv裡的資料\n",
    "data_boxplot = pd.read_csv('event.csv')\n",
    "\n",
    "# 創建互動化的介面\n",
    "fig = go.Figure()\n",
    "\n",
    "# 新增一個盒鬚圖 名字為'1' (類別用)\n",
    "fig.add_trace(go.Box(y=data_boxplot['temperature'], name='1'))\n",
    "\n",
    "# 設定標題\n",
    "fig.update_layout(title='Temperature')\n",
    "\n",
    "# 檔案名稱\n",
    "file_name = 'Temperature'\n",
    "\n",
    "# 輸出檔案\n",
    "py.plot(fig, filename=file_name)"
   ]
  },
  {
   "cell_type": "markdown",
   "metadata": {},
   "source": [
    "### 練習2\n",
    "\n",
    "針對 event.csv 的溫度點位，依事件的時間順序想把它劃分成5等分為五個階段，也就是產生五個盒鬚圖  \n",
    "\n",
    "* name : (stage1,stage2,stage3,stage4,stage5)\n",
    "* title : 'Temperature of Five Stage'\n",
    "* file_name : 'Temperature_stage'"
   ]
  },
  {
   "cell_type": "code",
   "execution_count": 2,
   "metadata": {},
   "outputs": [],
   "source": [
    "# 讀取event.csv裡的資料\n",
    "data_boxplot = pd.read_csv('event.csv')\n",
    "\n",
    "# 把資料分割成5等分\n",
    "\n",
    "\n",
    "# 創建互動化的介面\n",
    "fig = go.Figure()\n",
    "\n",
    "# 新增五個盒鬚圖 名字為 stage'1' ~ stage'5'\n",
    "# Hint 用 for 迴圈製作五個盒鬚圖\n",
    "    \n",
    "# 設定標題  \n",
    "\n",
    "\n",
    "# 檔案名稱\n",
    "\n",
    "\n",
    "# 輸出檔案\n"
   ]
  },
  {
   "cell_type": "markdown",
   "metadata": {},
   "source": [
    "## Chapter 3 : Plotly 與 3D gif圖\n",
    "\n",
    "3D gif圖\n",
    "\n",
    "`import matplotlib.animation` : 動態使用的套件  "
   ]
  },
  {
   "cell_type": "code",
   "execution_count": 3,
   "metadata": {},
   "outputs": [],
   "source": [
    "import matplotlib.animation\n",
    "\n",
    "# 背景模式恢復預設值\n",
    "plt.rcParams.update(plt.rcParamsDefault)\n",
    "\n",
    "# 建立三維(x, y, z)的數據\n",
    "xs = np.random.rand(300) * 100\n",
    "ys = np.random.rand(300) * 100\n",
    "zs = np.random.rand(300) * 100\n",
    "\n",
    "# 建立畫布\n",
    "fig = plt.figure()\n",
    "\n",
    "# 將axes設定為3維圖\n",
    "ax = fig.gca(projection='3d')\n",
    "\n",
    "# 使用散布圖，c:color以z軸的大小變化\n",
    "kk = ax.scatter(xs, ys, zs, c=zs)\n",
    "\n",
    "# 顯示 colorbar\n",
    "fig.colorbar(kk, ax=ax)\n",
    "\n",
    "# 設計 gif 旋轉的樣態 ; 初始值 : ax.view_init(15,0) 以x軸傾斜15度\n",
    "ax.view_init(15,0) \n",
    "\n",
    "# 動態圖:是多個靜態圖所組成，要定義每個靜態圖以y軸旋轉的角度\n",
    "phi = np.linspace(0, 2*np.pi) \n",
    "def update(phi): \n",
    "    ax.view_init(15, phi*180./np.pi) \n",
    "\n",
    "# 製作動態的資料；frames : steps(動畫用幾個靜態圖做成)\n",
    "ani = matplotlib.animation.FuncAnimation(fig, update, frames=phi) \n",
    "\n",
    "# 輸出為 gif圖；fps:播放的速率，越大則速率越快\n",
    "ani.save('dimension.gif', writer='pillow', fps=10) "
   ]
  },
  {
   "cell_type": "code",
   "execution_count": 4,
   "metadata": {},
   "outputs": [
    {
     "data": {
      "text/plain": [
       "array([0.        , 0.12822827, 0.25645654, 0.38468481, 0.51291309,\n",
       "       0.64114136, 0.76936963, 0.8975979 , 1.02582617, 1.15405444,\n",
       "       1.28228272, 1.41051099, 1.53873926, 1.66696753, 1.7951958 ,\n",
       "       1.92342407, 2.05165235, 2.17988062, 2.30810889, 2.43633716,\n",
       "       2.56456543, 2.6927937 , 2.82102197, 2.94925025, 3.07747852,\n",
       "       3.20570679, 3.33393506, 3.46216333, 3.5903916 , 3.71861988,\n",
       "       3.84684815, 3.97507642, 4.10330469, 4.23153296, 4.35976123,\n",
       "       4.48798951, 4.61621778, 4.74444605, 4.87267432, 5.00090259,\n",
       "       5.12913086, 5.25735913, 5.38558741, 5.51381568, 5.64204395,\n",
       "       5.77027222, 5.89850049, 6.02672876, 6.15495704, 6.28318531])"
      ]
     },
     "execution_count": 4,
     "metadata": {},
     "output_type": "execute_result"
    }
   ],
   "source": [
    "phi = np.linspace(0, 2*np.pi)\n",
    "phi"
   ]
  },
  {
   "cell_type": "code",
   "execution_count": 5,
   "metadata": {},
   "outputs": [
    {
     "data": {
      "text/plain": [
       "array([  0.        ,   7.34693878,  14.69387755,  22.04081633,\n",
       "        29.3877551 ,  36.73469388,  44.08163265,  51.42857143,\n",
       "        58.7755102 ,  66.12244898,  73.46938776,  80.81632653,\n",
       "        88.16326531,  95.51020408, 102.85714286, 110.20408163,\n",
       "       117.55102041, 124.89795918, 132.24489796, 139.59183673,\n",
       "       146.93877551, 154.28571429, 161.63265306, 168.97959184,\n",
       "       176.32653061, 183.67346939, 191.02040816, 198.36734694,\n",
       "       205.71428571, 213.06122449, 220.40816327, 227.75510204,\n",
       "       235.10204082, 242.44897959, 249.79591837, 257.14285714,\n",
       "       264.48979592, 271.83673469, 279.18367347, 286.53061224,\n",
       "       293.87755102, 301.2244898 , 308.57142857, 315.91836735,\n",
       "       323.26530612, 330.6122449 , 337.95918367, 345.30612245,\n",
       "       352.65306122, 360.        ])"
      ]
     },
     "execution_count": 5,
     "metadata": {},
     "output_type": "execute_result"
    }
   ],
   "source": [
    "phi*180./np.pi"
   ]
  },
  {
   "cell_type": "code",
   "execution_count": null,
   "metadata": {},
   "outputs": [],
   "source": []
  }
 ],
 "metadata": {
  "kernelspec": {
   "display_name": "Python 3",
   "language": "python",
   "name": "python3"
  },
  "language_info": {
   "codemirror_mode": {
    "name": "ipython",
    "version": 3
   },
   "file_extension": ".py",
   "mimetype": "text/x-python",
   "name": "python",
   "nbconvert_exporter": "python",
   "pygments_lexer": "ipython3",
   "version": "3.7.4"
  }
 },
 "nbformat": 4,
 "nbformat_minor": 2
}
