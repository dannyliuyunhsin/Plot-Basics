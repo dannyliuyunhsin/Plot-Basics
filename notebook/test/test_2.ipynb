{
 "cells": [
  {
   "cell_type": "code",
   "execution_count": 1,
   "metadata": {},
   "outputs": [
    {
     "name": "stderr",
     "output_type": "stream",
     "text": [
      "C:\\anaconda3\\lib\\site-packages\\plotly\\offline\\offline.py:563: UserWarning:\n",
      "\n",
      "Your filename `Temperature_stage` didn't end with .html. Adding .html to the end of your file.\n",
      "\n"
     ]
    },
    {
     "data": {
      "text/plain": [
       "'Temperature_stage.html'"
      ]
     },
     "execution_count": 1,
     "metadata": {},
     "output_type": "execute_result"
    }
   ],
   "source": [
    "import pandas as pd\n",
    "import numpy as np\n",
    "import matplotlib.pyplot as plt\n",
    "import plotly.graph_objects as go\n",
    "import plotly.offline as py\n",
    "\n",
    "\n",
    "# 讀取event.csv裡的資料\n",
    "data_boxplot = pd.read_csv('event.csv')\n",
    "\n",
    "# 把資料分割成5等分\n",
    "data_len = len(data_boxplot)//5\n",
    "\n",
    "# 創建互動化的介面\n",
    "fig = go.Figure()\n",
    "\n",
    "# 新增五個盒鬚圖 名字為 stage'1' ~ stage'5'\n",
    "# Hint 用 for 迴圈製作五個盒鬚圖\n",
    "for event_ii in range(5):\n",
    "    boxplot_event_name = 'stage' + str(event_ii+1)\n",
    "    fig.add_trace(go.Box(y=data_boxplot['temperature'][data_len*event_ii:data_len*(event_ii+1)], name=boxplot_event_name))\n",
    "    \n",
    "# 設定標題  \n",
    "fig.update_layout(title='Temperature of Five Stage')\n",
    "\n",
    "# 檔案名稱\n",
    "file_name = 'Temperature_stage'\n",
    "\n",
    "# 輸出檔案\n",
    "py.plot(fig, filename=file_name)"
   ]
  },
  {
   "cell_type": "code",
   "execution_count": null,
   "metadata": {},
   "outputs": [],
   "source": []
  }
 ],
 "metadata": {
  "kernelspec": {
   "display_name": "Python 3",
   "language": "python",
   "name": "python3"
  },
  "language_info": {
   "codemirror_mode": {
    "name": "ipython",
    "version": 3
   },
   "file_extension": ".py",
   "mimetype": "text/x-python",
   "name": "python",
   "nbconvert_exporter": "python",
   "pygments_lexer": "ipython3",
   "version": "3.7.4"
  }
 },
 "nbformat": 4,
 "nbformat_minor": 4
}
